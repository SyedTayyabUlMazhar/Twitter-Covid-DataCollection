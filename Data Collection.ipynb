{
 "cells": [
  {
   "cell_type": "markdown",
   "source": "# Initializing Tweepy API Instance",
   "metadata": {
    "cell_id": "00000-71190c18-50f6-41fb-ac5d-4a077b84ff11",
    "deepnote_cell_type": "markdown"
   }
  },
  {
   "cell_type": "code",
   "metadata": {
    "cell_id": "00001-c1cea421-e11f-4254-89b6-1c1851d97fbc",
    "deepnote_to_be_reexecuted": false,
    "source_hash": "42c0b40c",
    "execution_start": 1625961638927,
    "execution_millis": 160,
    "deepnote_cell_type": "code"
   },
   "source": "import os\nimport tweepy\n\nCONSUMER_KEY = os.environ.get(\"CONSUMER_KEY\")\nCONSUMER_SECRET = os.environ.get(\"CONSUMER_SECRET\")\nACCESS_TOKEN = os.environ.get(\"ACCESS_TOKEN\")\nACCESS_TOKEN_SECRET = os.environ.get(\"ACCESS_TOKEN_SECRET\")\n\nauth = tweepy.OAuthHandler(CONSUMER_KEY, CONSUMER_SECRET)\nauth.set_access_token(ACCESS_TOKEN, ACCESS_TOKEN_SECRET)\n\napi = tweepy.API(auth, wait_on_rate_limit=True, wait_on_rate_limit_notify=False)",
   "outputs": [],
   "execution_count": null
  },
  {
   "cell_type": "code",
   "metadata": {
    "cell_id": "00002-b400db38-ba5c-4275-93cf-8fcbb578df6e",
    "deepnote_to_be_reexecuted": false,
    "source_hash": "6893d4a8",
    "execution_start": 1625961639102,
    "execution_millis": 42,
    "deepnote_cell_type": "code"
   },
   "source": "# 0\nKarachi= [\n  [25.021844, 67.290971, 22],\n  [25.432985, 67.306322, 9],\n  [25.395774, 67.295336, 10],\n  [25.311384, 67.292589, 12],\n  [25.209543, 67.273363, 17],\n  [25.142429, 67.300829, 25],\n  [25.003414, 67.057641, 7],\n  [24.903400, 66.812640, 5],\n  [24.859432, 67.051105, 25],\n  [24.923171, 67.381485, 15],\n]\n# 0\nLahore = [\n    [31.558596, 74.376605, 14],\n    [31.423887, 74.335050, 14],\n    [31.302613, 74.201341, 3],\n    [31.376580, 74.197494, 6]\n]\n\n# 2\nIslamabad = [\n  [33.663429, 72.901708, 8],\n  [33.596235, 72.867393, 5],\n  [33.709498, 73.074380, 5.5],\n  [33.674092, 73.048638, 2.5],\n  [33.690704, 73.199413, 10],\n  [33.639984, 73.219902, 9],\n  [33.512778794168945,73.19197468523352, 5.3025],\n  [33.548753, 73.230600, 5],\n  [33.685959, 72.981599, 7.5],\n  [33.51963793680349,73.12640712868851,2.3632914299404906]\n]\n#2\nQuetta = [\n    [30.080933, 66.960185, 4.5],\n    [30.163010, 66.987202, 4.3],\n    [30.204778, 67.002995, 5.5],\n    [30.227309, 67.055644, 3.8],\n    [30.238115, 67.100313, 3.3],\n    [30.238997, 67.012762, 7.6],\n    [30.267661, 66.931336, 4],\n    [30.314606, 66.926487, 2.5],\n    [30.271188, 66.915511, 3],\n    [30.120738695676636,66.97116785648417,3.242853615283123],\n]\n#0\nPeshawar = [\n    [34.007387, 71.528380, 11],\n    [33.930931, 71.507817, 8],\n    [34.018612, 71.674968, 7.6],\n    [34.074802, 71.614244, 3.2],\n    [34.000716, 71.386124, 1.3],\n    [34.008504, 71.408680, 1.35],\n]\n\ncities_point_radius = {\n    \"Quetta\":Quetta,\n    \"Peshawar\":Peshawar,\n    \"Islamabad\":Islamabad,\n    \"Karachi\": Karachi,\n    \"Lahore\":Lahore\n}\n\n\n#point: an array like [30.080933, 66.960185, 4.5]\ndef createGeocode(point):\n    return f'{point[0]},{point[1]},{point[2]}km'",
   "outputs": [],
   "execution_count": null
  },
  {
   "cell_type": "markdown",
   "source": "## Tweet Class",
   "metadata": {
    "cell_id": "00003-17f6826c-2ae7-4287-a5ce-d9f287e48b83",
    "deepnote_cell_type": "markdown"
   }
  },
  {
   "cell_type": "code",
   "metadata": {
    "cell_id": "00004-08bb5aad-628c-479b-96f8-2f3e8a390099",
    "deepnote_to_be_reexecuted": false,
    "source_hash": "b73ec5d8",
    "execution_start": 1625961639144,
    "execution_millis": 1,
    "deepnote_cell_type": "code"
   },
   "source": "class Tweet:\n    def __init__(self, tweet_id, text, tags, created_at):\n        self.tweet_id = tweet_id\n        self.text = text\n        self.tags = tags\n        self.created_at = created_at\n        \n    def __str__(self):\n        return f'Tweet ID:{self.tweet_id}  Tags:{self.tags}  Created At:{self.created_at}  Text:{self.text}'        ",
   "outputs": [],
   "execution_count": null
  },
  {
   "cell_type": "markdown",
   "source": "## Methods for processing a status object",
   "metadata": {
    "cell_id": "00005-49e79db7-1f14-40e0-956c-aabd94c13f1d",
    "deepnote_cell_type": "markdown"
   }
  },
  {
   "cell_type": "code",
   "metadata": {
    "cell_id": "00006-ef89b510-e695-4dfc-a07e-71e9a6780e6f",
    "deepnote_to_be_reexecuted": false,
    "source_hash": "86f03eef",
    "execution_start": 1625961639145,
    "execution_millis": 86387693,
    "deepnote_cell_type": "code"
   },
   "source": "import pandas as pd\nfrom datetime import datetime\n\ndef processStatus(tweetID)->Tweet:\n    status = api.get_status(tweetID, tweet_mode=\"extended\")\n    \n    text = extractFullText(status)\n    tags = extractTags(status)\n    created_at = extractDate(status)\n    \n    tweet = Tweet(tweet_id=tweetID, text=text, tags=tags, created_at=created_at)\n    \n    return tweet\n    \n\ndef extractFullText(status)->str:\n    try:\n        return status.retweeted_status.full_text\n    except AttributeError:  # Not a Retweet\n        return status.full_text\n    \ndef extractTags(status)->str:\n    tags = status._json['entities']['hashtags']\n    tagsString = \"\"\n    \n    for tag in tags:\n        tagsString += f\"{tag['text']} \"\n        \n    return tagsString.strip()\n    \n\ndef extractDate(status)->str:\n    createdAt = status._json['created_at']\n    return createdAt",
   "outputs": [],
   "execution_count": null
  },
  {
   "cell_type": "markdown",
   "source": "## Method to save tweets to csv",
   "metadata": {
    "cell_id": "00007-39fbbbaf-bbdb-443a-938d-95f83449a3f1",
    "deepnote_cell_type": "markdown"
   }
  },
  {
   "cell_type": "code",
   "metadata": {
    "cell_id": "00008-a507b08c-6813-4d5a-82f7-207c9e4e3c62",
    "deepnote_to_be_reexecuted": false,
    "source_hash": "29efdc59",
    "execution_start": 1625961639146,
    "execution_millis": 0,
    "deepnote_cell_type": "code"
   },
   "source": "import pandas as pd\n\ndef createDataFrame(tweets:list[Tweet]):\n    data = {\n            \"ID\" : [tweet.tweet_id for tweet in tweets],\n            \"Tags\": [tweet.tags for tweet in tweets],\n            \"Created At\": [tweet.created_at for tweet in tweets],\n            \"Text\": [tweet.text for tweet in tweets]\n    }\n    \n    return pd.DataFrame(data)\n\ndef saveDfToCSV(df, ofDate:str, ofCity:str):\n    filename = f\"{ofDate}_{ofCity}.csv\"\n\n    path = os.path.join('Data',ofCity, filename)\n    df.to_csv(path, index=False)\n\n    print(f'SAVED! Total Tweets: {df.shape[0]} from: {ofCity}  On: {ofDate}')\n    \n\n    \ndef saveTweets(tweets:list[Tweet], ofDate:str, ofCity:str):\n    df = createDataFrame(tweets)\n        \n    saveDfToCSV(df, ofDate, ofCity)       \n    \n    \ndef doesDataExists(cityName, date):\n    p = os.path.join('Data', cityName, f'{date}_{cityName}.csv')\n    return os.path.exists(p)",
   "outputs": [],
   "execution_count": null
  },
  {
   "cell_type": "markdown",
   "source": "## Methods to collect and store tweets from cities",
   "metadata": {
    "cell_id": "00009-305d7fa5-9ea9-43e4-8dd7-1fcc7aab2905",
    "deepnote_cell_type": "markdown"
   }
  },
  {
   "cell_type": "code",
   "metadata": {
    "cell_id": "00010-e6f2bf17-37f6-4c8e-8fea-0f8acad91b8e",
    "deepnote_to_be_reexecuted": false,
    "source_hash": "8b8fc7d3",
    "execution_start": 1625961639192,
    "execution_millis": 0,
    "deepnote_cell_type": "code"
   },
   "source": "from datetime import timedelta\nimport os\n\ndef nextDay(date):\n    return date + timedelta(days=1)\n    \ndef toYMD(date):\n    return date.strftime('%Y-%m-%d')",
   "outputs": [],
   "execution_count": null
  },
  {
   "cell_type": "code",
   "metadata": {
    "cell_id": "00011-4b823c28-2981-4d6f-9b00-0db8d8ee7633",
    "deepnote_to_be_reexecuted": false,
    "source_hash": "d13f1bef",
    "execution_start": 1625961639192,
    "execution_millis": 1,
    "deepnote_cell_type": "code"
   },
   "source": "\nimport time\n\ndef collectTweets(fromDate:datetime.date, toDate:datetime.date):\n    #currentDate is the date for which we are collecting tweets\n    currentDate = fromDate\n    while(currentDate <= toDate):\n        \n        collectTweetsOfDate(currentDate)\n        currentDate = nextDay(currentDate)        \n        \n\ndef collectTweetsOfDate(date:datetime.date):\n    print(f\"\\n\\n====================={toYMD(date)}=====================\\n\")\n    \n    \n    for cityName in cities_point_radius:\n        if doesDataExists(cityName, toYMD(date)): \n            print(f\"\\n    City: {cityName} Skipped\")\n            continue\n                    \n        tweets = getTweetsOfCity(date, cityName)\n        saveTweets(tweets, date, cityName)\n    \n    \n    print(f\"=========================================================\")\n    \n\n\ndef getTweetsOfCity(date:datetime.date, cityName:str):\n    print(f\"\\n    City: {cityName}\")\n    \n    \n    tweets = [] # tweets of city:cityName at date:date\n    \n    cityPointRadii = cities_point_radius[cityName] # points of city:cityName\n    \n    for i,point in enumerate(cityPointRadii):\n            \n        geocode = createGeocode(point)\n        \n        geotweets = getTweetsOfGeocode(tweets, date, geocode, i)\n        tweets.extend(geotweets)\n        \n    return tweets\n        \n    \ndef getTweetsOfGeocode(cityTweets, date:datetime.date, geocode, i):\n    print(f\"            Gecode: {i}\",end='\\r')\n    \n    tweets = [] # tweets of geocode:geocode at date:date\n\n    keywords = \"covid OR virus OR lockdown\"\n    until    = toYMD(nextDay(date))\n    \n    success = False\n\n    while not success:\n        try:\n            max_id   = (None if len(tweets)==0 else tweets[-1].tweet_id)\n\n            for status in tweepy.Cursor(api.search, q=keywords, geocode=geocode,lang=\"en\",until=until,max_id=max_id).items():\n\n                if status.created_at.date() != date: \n                    print(\"break\\n\")\n                    break\n                elif any(item.tweet_id==status.id for item in cityTweets): \n                    print(\"continue\\n\")\n                    continue\n\n                print(f'            Gecode: {i} Count:{len(tweets)}', end='\\r')\n                tweet = processStatus(status.id)\n                tweets.append(tweet)\n                \n            print()\n            success = True\n                \n        except Exception as e:\n            print(e)\n            pass\n        \n    return tweets",
   "outputs": [],
   "execution_count": null
  },
  {
   "cell_type": "code",
   "metadata": {
    "scrolled": false,
    "cell_id": "00012-02257467-d792-4669-8024-85ded45af0c1",
    "deepnote_to_be_reexecuted": false,
    "source_hash": "a181081e",
    "execution_start": 1625961639193,
    "execution_millis": 908050,
    "output_cleared": false,
    "deepnote_cell_type": "code"
   },
   "source": "import datetime\n# fromDate = datetime.date(2021,4,16)\n# toDate = datetime.date(2021,4,21)\n\nfromDate = datetime.datetime.now().date() - timedelta(days=8)\ntoDate = datetime.datetime.now().date() - timedelta(days=1)\n\ncollectTweets(fromDate = fromDate, toDate = toDate)",
   "outputs": [
    {
     "name": "stdout",
     "text": "\ncontinue\n\ncontinue\n\ncontinue\n\ncontinue\n\ncontinue\n\ncontinue\n\ncontinue\n\ncontinue\n\ncontinue\n\ncontinue\n\ncontinue\n\ncontinue\n\ncontinue\n\ncontinue\n\ncontinue\n\ncontinue\n\ncontinue\n\ncontinue\n\ncontinue\n\ncontinue\n\ncontinue\n\ncontinue\n\ncontinue\n\ncontinue\n\ncontinue\n\ncontinue\n\ncontinue\n\ncontinue\n\ncontinue\n\ncontinue\n\ncontinue\n\ncontinue\n\ncontinue\n\ncontinue\n\ncontinue\n\ncontinue\n\ncontinue\n\ncontinue\n\ncontinue\n\ncontinue\n\ncontinue\n\ncontinue\n\ncontinue\n\ncontinue\n\ncontinue\n\ncontinue\n\ncontinue\n\ncontinue\n\ncontinue\n\ncontinue\n\ncontinue\n\ncontinue\n\ncontinue\n\ncontinue\n\ncontinue\n\ncontinue\n\ncontinue\n\ncontinue\n\ncontinue\n\ncontinue\n\ncontinue\n\ncontinue\n\ncontinue\n\ncontinue\n\ncontinue\n\ncontinue\n\ncontinue\n\ncontinue\n\ncontinue\n\ncontinue\n\ncontinue\n\ncontinue\n\ncontinue\n\ncontinue\n\ncontinue\n\ncontinue\n\ncontinue\n\ncontinue\n\ncontinue\n\ncontinue\n\ncontinue\n\ncontinue\n\ncontinue\n\ncontinue\n\ncontinue\n\ncontinue\n\ncontinue\n\ncontinue\n\ncontinue\n\ncontinue\n\ncontinue\n\ncontinue\n\ncontinue\n\ncontinue\n\ncontinue\n\ncontinue\n\ncontinue\n\ncontinue\n\ncontinue\n\ncontinue\n\ncontinue\n\ncontinue\n\ncontinue\n\ncontinue\n\ncontinue\n\ncontinue\n\ncontinue\n\ncontinue\n\ncontinue\n\ncontinue\n\ncontinue\n\ncontinue\n\ncontinue\n\ncontinue\n\ncontinue\n\ncontinue\n\ncontinue\n\ncontinue\n\ncontinue\n\ncontinue\n\ncontinue\n\ncontinue\n\ncontinue\n\ncontinue\n\ncontinue\n\ncontinue\n\ncontinue\n\ncontinue\n\ncontinue\n\ncontinue\n\ncontinue\n\ncontinue\n\ncontinue\n\ncontinue\n\ncontinue\n\ncontinue\n\ncontinue\n\ncontinue\n\ncontinue\n\ncontinue\n\ncontinue\n\ncontinue\n\ncontinue\n\ncontinue\n\ncontinue\n\ncontinue\n\ncontinue\n\ncontinue\n\ncontinue\n\ncontinue\n\ncontinue\n\ncontinue\n\ncontinue\n\ncontinue\n\ncontinue\n\ncontinue\n\ncontinue\n\ncontinue\n\ncontinue\n\ncontinue\n\ncontinue\n\ncontinue\n\ncontinue\n\ncontinue\n\ncontinue\n\ncontinue\n\ncontinue\n\ncontinue\n\ncontinue\n\ncontinue\n\ncontinue\n\ncontinue\n\ncontinue\n\ncontinue\n\ncontinue\n\ncontinue\n\ncontinue\n\ncontinue\n\ncontinue\n\ncontinue\n\ncontinue\n\ncontinue\n\ncontinue\n\ncontinue\n\ncontinue\n\ncontinue\n\ncontinue\n\ncontinue\n\ncontinue\n\ncontinue\n\ncontinue\n\ncontinue\n\ncontinue\n\ncontinue\n\ncontinue\n\ncontinue\n\ncontinue\n\ncontinue\n\ncontinue\n\ncontinue\n\ncontinue\n\ncontinue\n\ncontinue\n\ncontinue\n\ncontinue\n\ncontinue\n\ncontinue\n\ncontinue\n\ncontinue\n\ncontinue\n\ncontinue\n\ncontinue\n\ncontinue\n\ncontinue\n\ncontinue\n\ncontinue\n\ncontinue\n\ncontinue\n\ncontinue\n\ncontinue\n\ncontinue\n\ncontinue\n\ncontinue\n\ncontinue\n\ncontinue\n\ncontinue\n\ncontinue\n\ncontinue\n\ncontinue\n\ncontinue\n\ncontinue\n\ncontinue\n\ncontinue\n\ncontinue\n\ncontinue\n\ncontinue\n\nbreak\n\n\n            Gecode: 9\nSAVED! Total Tweets: 248 from: Islamabad  On: 2021-07-10\n\n    City: Karachi\nbreak\n\n\n            Gecode: 1\n\n            Gecode: 3\n\nbreak\n\n\n            Gecode: 6\n\ncontinue\n\ncontinue\n\ncontinue\n\ncontinue\n\ncontinue\n\ncontinue\n\ncontinue\n\ncontinue\n\ncontinue\n\ncontinue\n\ncontinue\n\ncontinue\n\ncontinue\n\ncontinue\n\ncontinue\n\ncontinue\n\ncontinue\n\ncontinue\n\ncontinue\n\ncontinue\n\ncontinue\n\ncontinue\n\ncontinue\n\ncontinue\n\ncontinue\n\ncontinue\n\ncontinue\n\ncontinue\n\ncontinue\n\ncontinue\n\ncontinue\n\ncontinue\n\ncontinue\n\ncontinue\n\ncontinue\n\ncontinue\n\ncontinue\n\ncontinue\n\ncontinue\n\ncontinue\n\ncontinue\n\ncontinue\n\ncontinue\n\ncontinue\n\ncontinue\n\ncontinue\n\ncontinue\n\ncontinue\n\ncontinue\n\ncontinue\n\ncontinue\n\ncontinue\n\ncontinue\n\ncontinue\n\ncontinue\n\ncontinue\n\ncontinue\n\ncontinue\n\ncontinue\n\ncontinue\n\ncontinue\n\ncontinue\n\ncontinue\n\ncontinue\n\ncontinue\n\ncontinue\n\ncontinue\n\ncontinue\n\ncontinue\n\ncontinue\n\ncontinue\n\ncontinue\n\ncontinue\n\ncontinue\n\ncontinue\n\ncontinue\n\ncontinue\n\ncontinue\n\ncontinue\n\ncontinue\n\ncontinue\n\ncontinue\n\ncontinue\n\ncontinue\n\ncontinue\n\ncontinue\n\ncontinue\n\ncontinue\n\ncontinue\n\ncontinue\n\ncontinue\n\ncontinue\n\ncontinue\n\ncontinue\n\ncontinue\n\ncontinue\n\ncontinue\n\ncontinue\n\ncontinue\n\ncontinue\n\ncontinue\n\ncontinue\n\ncontinue\n\ncontinue\n\ncontinue\n\ncontinue\n\ncontinue\n\ncontinue\n\ncontinue\n\ncontinue\n\ncontinue\n\ncontinue\n\ncontinue\n\ncontinue\n\ncontinue\n\ncontinue\n\ncontinue\n\ncontinue\n\ncontinue\n\ncontinue\n\ncontinue\n\ncontinue\n\ncontinue\n\ncontinue\n\ncontinue\n\ncontinue\n\ncontinue\n\ncontinue\n\ncontinue\n\ncontinue\n\ncontinue\n\ncontinue\n\ncontinue\n\ncontinue\n\ncontinue\n\ncontinue\n\ncontinue\n\ncontinue\n\ncontinue\n\ncontinue\n\ncontinue\n\ncontinue\n\ncontinue\n\ncontinue\n\ncontinue\n\ncontinue\n\ncontinue\n\ncontinue\n\ncontinue\n\ncontinue\n\ncontinue\n\ncontinue\n\ncontinue\n\ncontinue\n\ncontinue\n\ncontinue\n\ncontinue\n\ncontinue\n\ncontinue\n\ncontinue\n\ncontinue\n\ncontinue\n\ncontinue\n\ncontinue\n\ncontinue\n\ncontinue\n\ncontinue\n\ncontinue\n\ncontinue\n\ncontinue\n\ncontinue\n\ncontinue\n\ncontinue\n\ncontinue\n\ncontinue\n\ncontinue\n\ncontinue\n\ncontinue\n\ncontinue\n\ncontinue\n\ncontinue\n\ncontinue\n\ncontinue\n\ncontinue\n\ncontinue\n\ncontinue\n\ncontinue\n\ncontinue\n\ncontinue\n\ncontinue\n\ncontinue\n\ncontinue\n\ncontinue\n\ncontinue\n\ncontinue\n\ncontinue\n\ncontinue\n\ncontinue\n\ncontinue\n\ncontinue\n\ncontinue\n\ncontinue\n\ncontinue\n\ncontinue\n\ncontinue\n\ncontinue\n\ncontinue\n\ncontinue\n\ncontinue\n\ncontinue\n\ncontinue\n\ncontinue\n\ncontinue\n\ncontinue\n\ncontinue\n\ncontinue\n\ncontinue\n\ncontinue\n\ncontinue\n\ncontinue\n\ncontinue\n\ncontinue\n\ncontinue\n\ncontinue\n\ncontinue\n\ncontinue\n\ncontinue\n\ncontinue\n\ncontinue\n\ncontinue\n\ncontinue\n\ncontinue\n\ncontinue\n\ncontinue\n\ncontinue\n\ncontinue\n\ncontinue\n\ncontinue\n\ncontinue\n\ncontinue\n\nbreak\n\n\n            Gecode: 9\nSAVED! Total Tweets: 240 from: Karachi  On: 2021-07-10\n\n    City: Lahore\nbreak\n\n\ncontinue\n\ncontinue\n\ncontinue\n\ncontinue\n\ncontinue\n\nbreak\n\n\n            Gecode: 2\n\nSAVED! Total Tweets: 373 from: Lahore  On: 2021-07-10\n=========================================================\n",
     "output_type": "stream"
    }
   ],
   "execution_count": null
  },
  {
   "cell_type": "markdown",
   "source": "<a style='text-decoration:none;line-height:16px;display:flex;color:#5B5B62;padding:10px;justify-content:end;' href='https://deepnote.com?utm_source=created-in-deepnote-cell&projectId=e54c0725-da7e-42c7-b0f5-b4641b95089b' target=\"_blank\">\n<img alt='Created in deepnote.com' style='display:inline;max-height:16px;margin:0px;margin-right:7.5px;' src='data:image/svg+xml;base64,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' > </img>\nCreated in <span style='font-weight:600;margin-left:4px;'>Deepnote</span></a>",
   "metadata": {
    "tags": [],
    "created_in_deepnote_cell": true,
    "deepnote_cell_type": "markdown"
   }
  }
 ],
 "nbformat": 4,
 "nbformat_minor": 4,
 "metadata": {
  "kernelspec": {
   "display_name": "Python 3.8.3 64-bit",
   "language": "python",
   "name": "python38364bit1c59cdceb5ed428098da81e0e8a021df"
  },
  "language_info": {
   "codemirror_mode": {
    "name": "ipython",
    "version": 3
   },
   "file_extension": ".py",
   "mimetype": "text/x-python",
   "name": "python",
   "nbconvert_exporter": "python",
   "pygments_lexer": "ipython3",
   "version": "3.9.3"
  },
  "deepnote_notebook_id": "0568f137-c0dc-4d3d-8982-f15be7ad6825",
  "deepnote": {
   "is_reactive": false
  },
  "deepnote_execution_queue": []
 }
}